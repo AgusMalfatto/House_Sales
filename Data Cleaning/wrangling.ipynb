{
 "cells": [
  {
   "cell_type": "code",
   "execution_count": null,
   "metadata": {
    "vscode": {
     "languageId": "powershell"
    }
   },
   "outputs": [],
   "source": [
    "import pandas as pd\n",
    "import numpy as np "
   ]
  },
  {
   "cell_type": "code",
   "execution_count": null,
   "metadata": {
    "vscode": {
     "languageId": "powershell"
    }
   },
   "outputs": [],
   "source": [
    "df = pd.read_csv('House_prices_clean.csv')\n",
    "df.info()"
   ]
  },
  {
   "cell_type": "code",
   "execution_count": null,
   "metadata": {
    "vscode": {
     "languageId": "powershell"
    }
   },
   "outputs": [],
   "source": [
    "# Rename the columns\n",
    "df.rename(columns={\n",
    "    'Price (in rupees)': 'Price'\n",
    "}, inplace=True)\n",
    "\n",
    "df.columns = df.columns.str.capitalize()\n",
    "\n",
    "df['Location'] = df['Location'].str.capitalize()"
   ]
  },
  {
   "cell_type": "code",
   "execution_count": null,
   "metadata": {
    "vscode": {
     "languageId": "powershell"
    }
   },
   "outputs": [],
   "source": [
    "# Extract non-numeric characters from the 'Carpet area' column\n",
    "carpet_area = df['Carpet area'].str.replace('\\d+', '').values\n",
    "carpet_area = {area.split(' ')[1] for area in carpet_area}\n",
    "carpet_area"
   ]
  },
  {
   "cell_type": "code",
   "execution_count": null,
   "metadata": {
    "vscode": {
     "languageId": "powershell"
    }
   },
   "outputs": [],
   "source": [
    "# Checking how many rows are with each measurement\n",
    "units_counts = {}\n",
    "for units in carpet_area:\n",
    "    units_counts[units] = df[df['Carpet area'].str.contains(units)].shape[0]\n",
    "\n",
    "units_counts"
   ]
  },
  {
   "cell_type": "code",
   "execution_count": null,
   "metadata": {
    "vscode": {
     "languageId": "powershell"
    }
   },
   "outputs": [],
   "source": [
    "# Making the conversion into the same unit of measurement.\n",
    "units_measurement = {\n",
    "    'sqm': 10.764,\n",
    "    'sqyrd': 9\n",
    "}\n",
    "\n",
    "# Delete the units of measurement that I will use and convert\n",
    "carpet_area.discard('sqm')\n",
    "carpet_area.discard('sqyrd')\n",
    "carpet_area.discard('sqft')"
   ]
  },
  {
   "cell_type": "code",
   "execution_count": null,
   "metadata": {
    "vscode": {
     "languageId": "powershell"
    }
   },
   "outputs": [],
   "source": [
    "# Delete the rows whiwh have 'Carpet area' in another unit of measurement\n",
    "for unit in carpet_area:\n",
    "    df = df[~df['Carpet area'].str.contains(unit)]"
   ]
  },
  {
   "cell_type": "code",
   "execution_count": null,
   "metadata": {
    "vscode": {
     "languageId": "powershell"
    }
   },
   "outputs": [],
   "source": [
    "# Extract the unit measurement into a new column\n",
    "df['Unit measurement'] = df['Carpet area'].str.extract('([^\\d]+)')    \n",
    "df['Carpet area'] = df['Carpet area'].str.extract('(\\d+)').astype(float)"
   ]
  },
  {
   "cell_type": "code",
   "execution_count": null,
   "metadata": {
    "vscode": {
     "languageId": "powershell"
    }
   },
   "outputs": [],
   "source": [
    "# Calculating the Carpet area in the same measurement\n",
    "for unit, value in units_measurement.items():\n",
    "    carpet_area = df[df['Unit measurement'].str.contains(unit)]['Carpet area']\n",
    "    df.loc[df['Unit measurement'].str.contains(unit), 'Carpet area'] = carpet_area * value\n",
    "    df.loc[df['Unit measurement'].str.contains(unit), 'Unit measurement'] = 'sqft'\n"
   ]
  },
  {
   "cell_type": "code",
   "execution_count": null,
   "metadata": {
    "vscode": {
     "languageId": "powershell"
    }
   },
   "outputs": [],
   "source": [
    "# Extracting the integer part of the column 'Car parking','Bathroom' and 'Balcony'\n",
    "df['Car parking'] = df['Car parking'].str.extract('(\\d+)').astype(int)\n",
    "df['Bathroom'] = df['Bathroom'].str.extract('(\\d+)').astype(float)\n",
    "df[df['Bathroom'].isna()] = 0\n",
    "df['Balcony'] = df['Balcony'].str.extract('(\\d+)').astype(float)\n",
    "df[df['Balcony'].isna()] = 0"
   ]
  },
  {
   "cell_type": "code",
   "execution_count": null,
   "metadata": {
    "vscode": {
     "languageId": "powershell"
    }
   },
   "outputs": [],
   "source": [
    "df[df['Car parking'].isna()] = 0\n",
    "df = df[df['Car parking'] <= 20]"
   ]
  },
  {
   "cell_type": "code",
   "execution_count": null,
   "metadata": {
    "vscode": {
     "languageId": "powershell"
    }
   },
   "outputs": [],
   "source": [
    "df['Bathroom'] = df['Bathroom'].astype(int)\n",
    "df['Balcony'] = df['Balcony'].astype(int)"
   ]
  },
  {
   "cell_type": "code",
   "execution_count": null,
   "metadata": {
    "vscode": {
     "languageId": "powershell"
    }
   },
   "outputs": [],
   "source": [
    "df.info()"
   ]
  },
  {
   "cell_type": "code",
   "execution_count": null,
   "metadata": {
    "vscode": {
     "languageId": "powershell"
    }
   },
   "outputs": [],
   "source": [
    "df.isna().sum()"
   ]
  }
 ],
 "metadata": {
  "kernelspec": {
   "display_name": "env",
   "language": "python",
   "name": "python3"
  },
  "language_info": {
   "codemirror_mode": {
    "name": "ipython",
    "version": 3
   },
   "file_extension": ".py",
   "mimetype": "text/x-python",
   "name": "python",
   "nbconvert_exporter": "python",
   "pygments_lexer": "ipython3",
   "version": "3.11.4"
  }
 },
 "nbformat": 4,
 "nbformat_minor": 2
}
