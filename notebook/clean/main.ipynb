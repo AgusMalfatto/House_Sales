{
 "cells": [
  {
   "cell_type": "markdown",
   "metadata": {},
   "source": [
    "Imports"
   ]
  },
  {
   "cell_type": "code",
   "execution_count": null,
   "metadata": {
    "vscode": {
     "languageId": "powershell"
    }
   },
   "outputs": [],
   "source": [
    "import pandas as pd\n",
    "import numpy as np "
   ]
  },
  {
   "cell_type": "markdown",
   "metadata": {},
   "source": [
    "Data Exploration"
   ]
  },
  {
   "cell_type": "code",
   "execution_count": null,
   "metadata": {
    "vscode": {
     "languageId": "powershell"
    }
   },
   "outputs": [],
   "source": [
    "path_csv = '../../input/house_prices.csv'\n",
    "df = pd.read_csv(path_csv)\n",
    "df.info()"
   ]
  },
  {
   "cell_type": "code",
   "execution_count": null,
   "metadata": {
    "vscode": {
     "languageId": "powershell"
    }
   },
   "outputs": [],
   "source": [
    "# Printing rows and columns of the dataset\n",
    "rows, columns = df.shape\n",
    "print(f\"Rows: {rows}\\nColumns: {columns}\")"
   ]
  },
  {
   "cell_type": "code",
   "execution_count": null,
   "metadata": {
    "vscode": {
     "languageId": "powershell"
    }
   },
   "outputs": [],
   "source": [
    "df.head()"
   ]
  },
  {
   "cell_type": "markdown",
   "metadata": {},
   "source": [
    "Data Cleaning"
   ]
  },
  {
   "cell_type": "code",
   "execution_count": null,
   "metadata": {
    "vscode": {
     "languageId": "powershell"
    }
   },
   "outputs": [],
   "source": [
    "# Selectign the columns I need\n",
    "df = df[['Index', 'Price (in rupees)', 'location', 'Carpet Area', 'Status', 'Transaction', \n",
    "'Furnishing', 'Bathroom', 'Balcony', 'Car Parking']]\n",
    "df.isna().sum()"
   ]
  },
  {
   "cell_type": "code",
   "execution_count": null,
   "metadata": {
    "vscode": {
     "languageId": "powershell"
    }
   },
   "outputs": [],
   "source": [
    "# Delete all the rows with NaN values on the 'Carpet Area' column\n",
    "df = df[~df['Carpet Area'].isna()]"
   ]
  },
  {
   "cell_type": "code",
   "execution_count": null,
   "metadata": {
    "vscode": {
     "languageId": "powershell"
    }
   },
   "outputs": [],
   "source": [
    "# Fitting the column with its most common value\n",
    "df.loc[df['Status'].isna(), 'Status'] = df['Status'].value_counts().idxmax()\n",
    "df.loc[df['Transaction'].isna(), 'Transaction'] = df['Transaction'].value_counts().idxmax()\n",
    "df.loc[df['Furnishing'].isna(), 'Furnishing'] = df['Furnishing'].value_counts().idxmax()"
   ]
  },
  {
   "cell_type": "code",
   "execution_count": null,
   "metadata": {
    "vscode": {
     "languageId": "powershell"
    }
   },
   "outputs": [],
   "source": [
    "# Fitting the columns 'Bathroom', 'Balcony', and 'Car Parking'\n",
    "df.loc[df['Bathroom'].isna(), 'Bathroom'] = 1\n",
    "df.loc[df['Balcony'].isna(), 'Balcony'] = 0\n",
    "df.loc[df['Car Parking'].isna(), 'Car Parking'] = 0"
   ]
  },
  {
   "cell_type": "code",
   "execution_count": null,
   "metadata": {
    "vscode": {
     "languageId": "powershell"
    }
   },
   "outputs": [],
   "source": [
    "df.duplicated().sum()"
   ]
  },
  {
   "cell_type": "code",
   "execution_count": null,
   "metadata": {
    "vscode": {
     "languageId": "powershell"
    }
   },
   "outputs": [],
   "source": [
    "# Extract all the rows with NaN values on the 'Price' column\n",
    "df_price_nan = df[df['Price (in rupees)'].isna()]\n",
    "df = df[~df['Price (in rupees)'].isna()]"
   ]
  },
  {
   "cell_type": "code",
   "execution_count": null,
   "metadata": {
    "vscode": {
     "languageId": "powershell"
    }
   },
   "outputs": [],
   "source": [
    "df.to_csv('../../input/house_prices_clean.csv', index=False)"
   ]
  }
 ],
 "metadata": {
  "kernelspec": {
   "display_name": "env",
   "language": "python",
   "name": "python3"
  },
  "language_info": {
   "codemirror_mode": {
    "name": "ipython",
    "version": 3
   },
   "file_extension": ".py",
   "mimetype": "text/x-python",
   "name": "python",
   "nbconvert_exporter": "python",
   "pygments_lexer": "ipython3",
   "version": "3.10.11"
  }
 },
 "nbformat": 4,
 "nbformat_minor": 2
}
